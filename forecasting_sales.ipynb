{
 "cells": [
  {
   "cell_type": "markdown",
   "id": "4284c8a2-fe68-463a-bf02-2525d5207c37",
   "metadata": {},
   "source": [
    "# Forecasting sales"
   ]
  },
  {
   "cell_type": "code",
   "execution_count": null,
   "id": "f1dc62cc-5370-4db1-aa85-4d2362a330be",
   "metadata": {},
   "outputs": [],
   "source": []
  }
 ],
 "metadata": {
  "kernelspec": {
   "display_name": "superstore_venv",
   "language": "python",
   "name": "superstore_venv"
  },
  "language_info": {
   "codemirror_mode": {
    "name": "ipython",
    "version": 3
   },
   "file_extension": ".py",
   "mimetype": "text/x-python",
   "name": "python",
   "nbconvert_exporter": "python",
   "pygments_lexer": "ipython3",
   "version": "3.11.4"
  }
 },
 "nbformat": 4,
 "nbformat_minor": 5
}
